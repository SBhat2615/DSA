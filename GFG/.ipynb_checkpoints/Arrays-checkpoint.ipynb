{
 "cells": [
  {
   "cell_type": "markdown",
   "id": "7f0e3f75",
   "metadata": {},
   "source": [
    "# LISTS (ARRAYS)"
   ]
  },
  {
   "cell_type": "code",
   "execution_count": 1,
   "id": "77109495",
   "metadata": {},
   "outputs": [
    {
     "name": "stdout",
     "output_type": "stream",
     "text": [
      "3\n"
     ]
    }
   ],
   "source": [
    "lst = [10, 20, 30, 40, 50, 60]\n",
    "print(lst.index(40, 3, 5))\n",
    "# print(lst.index(40, 3, 5))"
   ]
  },
  {
   "cell_type": "code",
   "execution_count": 2,
   "id": "cc68a173",
   "metadata": {},
   "outputs": [
    {
     "data": {
      "text/plain": [
       "[20, 30, 40]"
      ]
     },
     "execution_count": 2,
     "metadata": {},
     "output_type": "execute_result"
    }
   ],
   "source": [
    "lst = [10, 20, 30, 40, 50, 60]\n",
    "del lst[4:]\n",
    "lst.remove(10)\n",
    "lst"
   ]
  },
  {
   "cell_type": "markdown",
   "id": "9576f79b",
   "metadata": {},
   "source": [
    "#### SETS VS LISTS"
   ]
  },
  {
   "cell_type": "markdown",
   "id": "c339e400",
   "metadata": {},
   "source": [
    "https://lucasmagnum.medium.com/pythontip-list-vs-set-performance-experiments-dfbe4f72d47f"
   ]
  },
  {
   "cell_type": "markdown",
   "id": "96479e50",
   "metadata": {},
   "source": [
    "https://towardsdatascience.com/python-lists-vs-sets-39bd6b5745e1"
   ]
  },
  {
   "cell_type": "markdown",
   "id": "779be580",
   "metadata": {},
   "source": [
    "#### SLICING"
   ]
  },
  {
   "cell_type": "code",
   "execution_count": 5,
   "id": "5b95aa15",
   "metadata": {},
   "outputs": [
    {
     "name": "stdout",
     "output_type": "stream",
     "text": [
      "[60]\n",
      "[60]\n"
     ]
    }
   ],
   "source": [
    "lst = [10, 20, 30, 40, 50, 60] \n",
    "print(lst[:4:-1])             # 0 - 4 in the backward direction\n",
    "print(lst[:-2:-1])"
   ]
  },
  {
   "cell_type": "code",
   "execution_count": 6,
   "id": "da2e0fbd",
   "metadata": {},
   "outputs": [
    {
     "name": "stdout",
     "output_type": "stream",
     "text": [
      "False\n",
      "False\n",
      "True\n"
     ]
    }
   ],
   "source": [
    "l1 = [10, 20, 30]\n",
    "l2 = l1[:]\n",
    "\n",
    "t1 = (10, 20, 30)\n",
    "t2 = t1[:]\n",
    "\n",
    "s1 = \"geeks\"\n",
    "s2 = s1[:]\n",
    "\n",
    "print(l1 in l2)\n",
    "print(t1 in t2)\n",
    "print(s1 in s2) # same string"
   ]
  },
  {
   "cell_type": "markdown",
   "id": "4091aae2",
   "metadata": {},
   "source": [
    "#### LIST COMPREHENSIONS"
   ]
  },
  {
   "cell_type": "code",
   "execution_count": 8,
   "id": "02dc3cc4",
   "metadata": {},
   "outputs": [
    {
     "data": {
      "text/plain": [
       "[0, 2, 4, 6, 8, 10]"
      ]
     },
     "execution_count": 8,
     "metadata": {},
     "output_type": "execute_result"
    }
   ],
   "source": [
    "lst1 = [i for i in range(11) if i%2 == 0]\n",
    "lst1"
   ]
  },
  {
   "cell_type": "code",
   "execution_count": 9,
   "id": "1707452c",
   "metadata": {},
   "outputs": [
    {
     "data": {
      "text/plain": [
       "['gfg', 'geeks']"
      ]
     },
     "execution_count": 9,
     "metadata": {},
     "output_type": "execute_result"
    }
   ],
   "source": [
    "lst = [\"gfg\", \"sdf\", \"tew\", \"geeks\"]\n",
    "lst2 = [x for x in lst if x.startswith('g')]\n",
    "lst2"
   ]
  },
  {
   "cell_type": "markdown",
   "id": "0af28bc9",
   "metadata": {},
   "source": [
    "#### SET COMPREHENSIONS"
   ]
  },
  {
   "cell_type": "code",
   "execution_count": 11,
   "id": "0e922dc9",
   "metadata": {},
   "outputs": [
    {
     "data": {
      "text/plain": [
       "{10, 40, 54, 60}"
      ]
     },
     "execution_count": 11,
     "metadata": {},
     "output_type": "execute_result"
    }
   ],
   "source": [
    "lst = [10, 21, 33, 40, 54, 60] \n",
    "sett = {x for x in lst if x%2 == 0}\n",
    "sett"
   ]
  },
  {
   "cell_type": "markdown",
   "id": "352594cb",
   "metadata": {},
   "source": [
    "#### DICTIONARY COMPREHENSIONS"
   ]
  },
  {
   "cell_type": "code",
   "execution_count": 13,
   "id": "d07039fd",
   "metadata": {},
   "outputs": [
    {
     "data": {
      "text/plain": [
       "{0: 'ID0', 1: 'ID1', 2: 'ID2', 3: 'ID3', 4: 'ID4', 5: 'ID5'}"
      ]
     },
     "execution_count": 13,
     "metadata": {},
     "output_type": "execute_result"
    }
   ],
   "source": [
    "d1 = {x: f'ID{x}' for x in range(6)}\n",
    "d1"
   ]
  },
  {
   "cell_type": "code",
   "execution_count": 14,
   "id": "67b1672c",
   "metadata": {},
   "outputs": [
    {
     "data": {
      "text/plain": [
       "{'skd': 101, 'iee': 102, 'kfg': 103}"
      ]
     },
     "execution_count": 14,
     "metadata": {},
     "output_type": "execute_result"
    }
   ],
   "source": [
    "# Reverse dictionary\n",
    "d = {101:\"skd\", 102:\"iee\", 103:\"kfg\"}\n",
    "d2 = {v:k for k, v in d.items()}\n",
    "d2"
   ]
  },
  {
   "cell_type": "markdown",
   "id": "14273421",
   "metadata": {},
   "source": [
    "#### EXTRA"
   ]
  },
  {
   "cell_type": "code",
   "execution_count": 16,
   "id": "859c2c96",
   "metadata": {},
   "outputs": [
    {
     "name": "stdout",
     "output_type": "stream",
     "text": [
      "[60, 50, 40, 30, 20, 10]\n",
      "[60, 50, 40, 30, 20, 10]\n"
     ]
    },
    {
     "data": {
      "text/plain": [
       "[10, 20, 30, 40, 50, 60]"
      ]
     },
     "execution_count": 16,
     "metadata": {},
     "output_type": "execute_result"
    }
   ],
   "source": [
    "# 1\n",
    "lst = [10, 20, 30, 40, 50, 60]\n",
    "l2 = list(reversed(lst))\n",
    "print(l2)\n",
    "# 2\n",
    "lst.reverse()\n",
    "print(lst)\n",
    "# 3\n",
    "lst[::-1]"
   ]
  },
  {
   "cell_type": "markdown",
   "id": "c693682d",
   "metadata": {},
   "source": [
    "#### REMOVE DUPLICATES FROM SORTED"
   ]
  },
  {
   "cell_type": "code",
   "execution_count": 18,
   "id": "ef3f4ced",
   "metadata": {},
   "outputs": [],
   "source": [
    "def removeD(lst, n):\n",
    "    res = 1\n",
    "    for i in range(1,n):\n",
    "        if lst[res-1] != lst[i]:\n",
    "            lst[res] = lst[i]\n",
    "            res += 1\n",
    "    return res"
   ]
  },
  {
   "cell_type": "code",
   "execution_count": 19,
   "id": "9982d72e",
   "metadata": {},
   "outputs": [
    {
     "data": {
      "text/plain": [
       "[10, 20, 30, 40]"
      ]
     },
     "execution_count": 19,
     "metadata": {},
     "output_type": "execute_result"
    }
   ],
   "source": [
    "lst = [10, 20, 20, 30, 40, 40]\n",
    "res = removeD(lst, len(lst))\n",
    "lst[:res]"
   ]
  },
  {
   "cell_type": "markdown",
   "id": "02ca2ee3",
   "metadata": {},
   "source": [
    "#### LEFT ROTATE LIST BY 1"
   ]
  },
  {
   "cell_type": "code",
   "execution_count": 21,
   "id": "6aec7f3b",
   "metadata": {},
   "outputs": [],
   "source": [
    "class LeftRotate:\n",
    "    def ap1(self, lst, n):\n",
    "        lst = lst[1:] + lst[:1]\n",
    "        return lst\n",
    "    \n",
    "    def ap2(self, lst, n):\n",
    "        lst.append(lst.pop(0))\n",
    "    \n",
    "    def ap3(self, lst, n):\n",
    "        lst.append(lst[0])\n",
    "        del lst[0]\n",
    "        \n",
    "    def ap4(self, lst, n):\n",
    "        tmp = lst[0]\n",
    "        for i in range(n-1):\n",
    "            lst[i] = lst[i+1]\n",
    "        lst[n-1] = tmp\n",
    "        return lst"
   ]
  },
  {
   "cell_type": "code",
   "execution_count": 22,
   "id": "80a919e7",
   "metadata": {},
   "outputs": [
    {
     "name": "stdout",
     "output_type": "stream",
     "text": [
      "[20, 30, 40, 50, 60, 10]\n",
      "[20, 30, 40, 50, 60, 10]\n",
      "[20, 30, 40, 50, 60, 10]\n",
      "[20, 30, 40, 50, 60, 10]\n"
     ]
    }
   ],
   "source": [
    "s = LeftRotate()\n",
    "lst = [10, 20, 30, 40, 50, 60]\n",
    "l1 = s.ap1(lst, len(lst))\n",
    "print(l1)\n",
    "\n",
    "lst = [10, 20, 30, 40, 50, 60]\n",
    "s.ap2(lst, len(lst))\n",
    "print(lst)\n",
    "\n",
    "lst = [10, 20, 30, 40, 50, 60]\n",
    "s.ap3(lst, len(lst))\n",
    "print(lst)\n",
    "\n",
    "lst = [10, 20, 30, 40, 50, 60]\n",
    "s.ap4(lst, len(lst))\n",
    "print(lst)"
   ]
  },
  {
   "cell_type": "markdown",
   "id": "7d6a50c3",
   "metadata": {},
   "source": [
    "#### ROTATE BY d PLACES"
   ]
  },
  {
   "cell_type": "code",
   "execution_count": 24,
   "id": "602d3a11",
   "metadata": {},
   "outputs": [
    {
     "name": "stdout",
     "output_type": "stream",
     "text": [
      "[5, 6, 8, 3, 4]\n",
      "[5, 6, 8, 3, 4]\n"
     ]
    },
    {
     "data": {
      "text/plain": [
       "[6, 8, 3, 4, 5]"
      ]
     },
     "execution_count": 24,
     "metadata": {},
     "output_type": "execute_result"
    }
   ],
   "source": [
    "l = [3,4,5,6,8]\n",
    "d = 2\n",
    "\n",
    "#### 1\n",
    "print(l[d:]+l[:d])\n",
    "\n",
    "#### 2\n",
    "from collections import deque\n",
    "dq = deque(l)\n",
    "dq.rotate(-d)\n",
    "print(list(dq))\n",
    "\n",
    "#### 3\n",
    "# pop & append - (d loop) O(n^2)\n",
    "\n",
    "#### 4\n",
    "# TC : O(n) ; SC : O(1)\n",
    "list(reversed(list(reversed(l[:-d]))+list(reversed(l[-d:]))))"
   ]
  },
  {
   "cell_type": "markdown",
   "id": "75e75ab1",
   "metadata": {},
   "source": [
    "#### MAXIMUM DIFFERENCE"
   ]
  },
  {
   "cell_type": "code",
   "execution_count": 39,
   "id": "5f30d902",
   "metadata": {},
   "outputs": [
    {
     "data": {
      "text/plain": [
       "10"
      ]
     },
     "execution_count": 39,
     "metadata": {},
     "output_type": "execute_result"
    }
   ],
   "source": [
    "# O(N) => j > i\n",
    "import sys\n",
    "def maxdiff(arr, n):\n",
    "    res=-sys.maxsize\n",
    "    minval = arr[0]\n",
    "    for i in range(1,n):\n",
    "        res = max(res, arr[i]-minval)\n",
    "        minval = min(minval, arr[i])\n",
    "    return res\n",
    "\n",
    "lst = [2,3,10,1,4,8,11]\n",
    "maxdiff(lst, len(lst))"
   ]
  },
  {
   "cell_type": "markdown",
   "id": "a8631e4b",
   "metadata": {},
   "source": [
    "#### MAXIMUM SUBARRAY SUM"
   ]
  },
  {
   "cell_type": "code",
   "execution_count": 28,
   "id": "6b0666de",
   "metadata": {},
   "outputs": [
    {
     "data": {
      "text/plain": [
       "4"
      ]
     },
     "execution_count": 28,
     "metadata": {},
     "output_type": "execute_result"
    }
   ],
   "source": [
    "# maxEnding[i] = max(maxEnding[i-1]+arr[i], arr[i])  {either element at that index or max until prev index}\n",
    "def maxSubSum(arr,n):\n",
    "    maxEnding = arr[0]\n",
    "    res = arr[0]\n",
    "    for i in range(1,n):\n",
    "        maxEnding = max(maxEnding+arr[i], arr[i])\n",
    "        res = max(maxEnding, res)\n",
    "    return res\n",
    "\n",
    "arr = [-5,1,-2,3,-1,2,-2]\n",
    "maxSubSum(arr, len(arr))"
   ]
  },
  {
   "cell_type": "markdown",
   "id": "9cd8e013",
   "metadata": {},
   "source": [
    "#### LONGEST EVEN ODD SUBARRAY"
   ]
  },
  {
   "cell_type": "code",
   "execution_count": 30,
   "id": "fc9d10fc",
   "metadata": {},
   "outputs": [
    {
     "data": {
      "text/plain": [
       "3"
      ]
     },
     "execution_count": 30,
     "metadata": {},
     "output_type": "execute_result"
    }
   ],
   "source": [
    "def evenOddSub(arr,n):\n",
    "    res = 1\n",
    "    curr = 1\n",
    "    for i in range(1,n):\n",
    "        cur, prev = arr[i]%2, arr[i-1]%2\n",
    "        if (cur==0 and prev==1) or (cur==1 and prev==0):\n",
    "            curr += 1\n",
    "            res = max(res,curr)\n",
    "        else:\n",
    "            curr = 1\n",
    "    return res\n",
    "\n",
    "arr = [5,10,20,6,3,8]\n",
    "evenOddSub(arr,len(arr))"
   ]
  },
  {
   "cell_type": "markdown",
   "id": "3b8e6564",
   "metadata": {},
   "source": [
    "#### MINIMUM CONSECUTIVE FLIPS"
   ]
  },
  {
   "cell_type": "code",
   "execution_count": 32,
   "id": "5d98770d",
   "metadata": {},
   "outputs": [],
   "source": [
    "# Groups of 0 & 1, at max differ by one *****\n",
    "    # check 1st & last occuring group (if equal then more count)\n",
    "    # 2nd occuring group from left, will either have 1 group count less or equal\n",
    "    \n",
    "### 111001001001\n",
    "### 00110011"
   ]
  },
  {
   "cell_type": "markdown",
   "id": "b9cce33a",
   "metadata": {},
   "source": [
    "#### PREFIX SUM"
   ]
  },
  {
   "cell_type": "code",
   "execution_count": null,
   "id": "e06b9ba9",
   "metadata": {},
   "outputs": [],
   "source": [
    "# O(n) - useful for t test cases (still remains O(n))\n",
    "def pSumFun(arr):\n",
    "    pSum = [arr[0]]\n",
    "    for i in range(1,len(arr)):\n",
    "        pSum.append(pSum[i-1]+arr[i])\n",
    "    return pSum\n",
    "\n",
    "def getSum(arr,l,r):\n",
    "    pSum = pSumFun(arr)    # O(n)\n",
    "    if l == 0:\n",
    "        return pSum[r]\n",
    "    else:\n",
    "        return pSum[r]-pSum[l-1]\n",
    "    \n",
    "arr = [3,4,2,5,6,1]\n",
    "getSum(arr,1,3)\n",
    "\n",
    "# weighted sum\n",
    "    # Using 2 arrays"
   ]
  },
  {
   "cell_type": "markdown",
   "id": "faf3e389",
   "metadata": {},
   "source": [
    "#### SLIDING WINDOW"
   ]
  },
  {
   "cell_type": "code",
   "execution_count": 33,
   "id": "b2d00f9f",
   "metadata": {},
   "outputs": [
    {
     "data": {
      "text/plain": [
       "53"
      ]
     },
     "execution_count": 33,
     "metadata": {},
     "output_type": "execute_result"
    }
   ],
   "source": [
    "def kMaxSum(arr,k):\n",
    "    curr = 0\n",
    "    for i in range(k):\n",
    "        curr += arr[i]\n",
    "    res = curr\n",
    "    for i in range(k, len(arr)):\n",
    "        curr += arr[i]-arr[i-k]\n",
    "        res = max(res, curr)\n",
    "    return res\n",
    "\n",
    "arr = [1,8,30,-5,20,7]\n",
    "k = 4\n",
    "kMaxSum(arr, k)"
   ]
  },
  {
   "cell_type": "markdown",
   "id": "0df6422d",
   "metadata": {},
   "source": [
    "#### SUBARRAY WITH GIVEN SUM"
   ]
  },
  {
   "cell_type": "code",
   "execution_count": 34,
   "id": "775c5991",
   "metadata": {},
   "outputs": [
    {
     "data": {
      "text/plain": [
       "True"
      ]
     },
     "execution_count": 34,
     "metadata": {},
     "output_type": "execute_result"
    }
   ],
   "source": [
    "# O(n)\n",
    "def isSubSum(arr, summ):\n",
    "    curr = arr[0]\n",
    "    i, j = 0, 1\n",
    "    while i <= j and j < len(arr):\n",
    "        if summ == curr:\n",
    "            return True\n",
    "        elif summ > curr:\n",
    "            curr += arr[j]\n",
    "            j += 1\n",
    "        else:\n",
    "            curr -= arr[i]\n",
    "            i += 1\n",
    "\n",
    "arr, summ = [3,2,0,4,7], 6\n",
    "isSubSum(arr, summ)"
   ]
  },
  {
   "cell_type": "markdown",
   "id": "f92aa14c",
   "metadata": {},
   "source": [
    "#### EQUILIBRIUM POINT"
   ]
  },
  {
   "cell_type": "code",
   "execution_count": 36,
   "id": "ce7e975a",
   "metadata": {},
   "outputs": [
    {
     "data": {
      "text/plain": [
       "(True, 4)"
      ]
     },
     "execution_count": 36,
     "metadata": {},
     "output_type": "execute_result"
    }
   ],
   "source": [
    "# O(n)\n",
    "def epoint(arr):\n",
    "    rightsum = sum(arr)\n",
    "    leftsum = 0\n",
    "    for i in range(len(arr)):\n",
    "        rightsum -= arr[i]\n",
    "        if leftsum == rightsum:\n",
    "            return True, i\n",
    "        leftsum += arr[i]\n",
    "    return False\n",
    "\n",
    "arr = [2,5,4,-9,3,2]\n",
    "epoint(arr)"
   ]
  },
  {
   "cell_type": "markdown",
   "id": "35365472",
   "metadata": {},
   "source": [
    "#### MAXIMUM APPEARING ELEMENT IN A RANGE"
   ]
  },
  {
   "cell_type": "code",
   "execution_count": 38,
   "id": "4d4cb2e9",
   "metadata": {},
   "outputs": [
    {
     "name": "stdout",
     "output_type": "stream",
     "text": [
      "[0, 1, 2, 2, 3, 2, 1, 1, 0]\n"
     ]
    },
    {
     "data": {
      "text/plain": [
       "4"
      ]
     },
     "execution_count": 38,
     "metadata": {},
     "output_type": "execute_result"
    }
   ],
   "source": [
    "# O(N+MAX) => +1 marker in left to include from that point, -1 marker to nullify that addition from that point\n",
    "def maxAppear(left, right):\n",
    "    maxi = max(right)+2\n",
    "    freq = [0]*maxi\n",
    "    for i in range(len(left)):\n",
    "        freq[left[i]] += 1\n",
    "        freq[right[i]+1] -= 1\n",
    "    for i in range(1,len(freq)):\n",
    "        freq[i] = freq[i] + freq[i-1]\n",
    "    print(freq)\n",
    "    return freq.index(max(freq))\n",
    "\n",
    "left = [1,2,4]\n",
    "right = [4,5,7]\n",
    "maxAppear(left, right)  # 4 is repeating max number of times"
   ]
  },
  {
   "cell_type": "code",
   "execution_count": null,
   "id": "94957d41",
   "metadata": {},
   "outputs": [],
   "source": []
  },
  {
   "cell_type": "code",
   "execution_count": null,
   "id": "c0cb8f55",
   "metadata": {},
   "outputs": [],
   "source": []
  }
 ],
 "metadata": {
  "kernelspec": {
   "display_name": "Python 3 (ipykernel)",
   "language": "python",
   "name": "python3"
  },
  "language_info": {
   "codemirror_mode": {
    "name": "ipython",
    "version": 3
   },
   "file_extension": ".py",
   "mimetype": "text/x-python",
   "name": "python",
   "nbconvert_exporter": "python",
   "pygments_lexer": "ipython3",
   "version": "3.9.16"
  },
  "varInspector": {
   "cols": {
    "lenName": 16,
    "lenType": 16,
    "lenVar": 40
   },
   "kernels_config": {
    "python": {
     "delete_cmd_postfix": "",
     "delete_cmd_prefix": "del ",
     "library": "var_list.py",
     "varRefreshCmd": "print(var_dic_list())"
    },
    "r": {
     "delete_cmd_postfix": ") ",
     "delete_cmd_prefix": "rm(",
     "library": "var_list.r",
     "varRefreshCmd": "cat(var_dic_list()) "
    }
   },
   "types_to_exclude": [
    "module",
    "function",
    "builtin_function_or_method",
    "instance",
    "_Feature"
   ],
   "window_display": false
  }
 },
 "nbformat": 4,
 "nbformat_minor": 5
}
