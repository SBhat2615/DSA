{
 "cells": [
  {
   "cell_type": "code",
   "execution_count": null,
   "id": "cb630eea",
   "metadata": {},
   "outputs": [],
   "source": [
    "# TREES"
   ]
  },
  {
   "cell_type": "code",
   "execution_count": null,
   "id": "5e73e227",
   "metadata": {},
   "outputs": [],
   "source": [
    "### BINARY TREE"
   ]
  },
  {
   "cell_type": "code",
   "execution_count": null,
   "id": "6ade140e",
   "metadata": {},
   "outputs": [],
   "source": [
    "TREE TRAVERSALS"
   ]
  },
  {
   "cell_type": "code",
   "execution_count": null,
   "id": "fc3d9ba5",
   "metadata": {},
   "outputs": [],
   "source": [
    "# inorder (left => root => right)\n",
    "# TC : O(n)\n",
    "# OC : O(n)\n",
    "def inorder(root):\n",
    "    if head is None:\n",
    "        return\n",
    "    inorder(root.left)\n",
    "    print(root.data)\n",
    "    inorder(root.right)\n",
    "    \n",
    "# preorder (root => left => right)\n",
    "# TC : O(n)\n",
    "# OC : O(n) \n",
    "\n",
    "\n",
    "# postorder (left => right => root)\n",
    "# TC : O(n)\n",
    "# OC : O(n) \n"
   ]
  },
  {
   "cell_type": "code",
   "execution_count": null,
   "id": "da18d3fc",
   "metadata": {},
   "outputs": [],
   "source": [
    "HEIGHT OF BINARY TREE"
   ]
  },
  {
   "cell_type": "code",
   "execution_count": null,
   "id": "b2a046b8",
   "metadata": {},
   "outputs": [],
   "source": [
    "# TC : \n",
    "# OC : \n",
    "def height(root):\n",
    "    if root is None:\n",
    "        return\n",
    "    else:\n",
    "        left = height(root.left)\n",
    "        right = height(root.right)\n",
    "    return max(left, right)+1"
   ]
  },
  {
   "cell_type": "code",
   "execution_count": null,
   "id": "f3f48ab6",
   "metadata": {},
   "outputs": [],
   "source": [
    "NODE AT DISTANCE K"
   ]
  },
  {
   "cell_type": "code",
   "execution_count": null,
   "id": "d160b8c0",
   "metadata": {},
   "outputs": [],
   "source": [
    "# TC : \n",
    "# OC : \n",
    "def kdistance(root, k):\n",
    "    if root is None:\n",
    "        return\n",
    "    if k == 0:\n",
    "        print(root.data)\n",
    "    else:\n",
    "        kdistance(root.left, k-1)\n",
    "        kdistance(root.right, k-1)"
   ]
  },
  {
   "cell_type": "code",
   "execution_count": null,
   "id": "fe62bb1f",
   "metadata": {},
   "outputs": [],
   "source": [
    "LEVEL ORDER TRAVERSAL  (BFS)"
   ]
  },
  {
   "cell_type": "code",
   "execution_count": null,
   "id": "e58c6711",
   "metadata": {},
   "outputs": [],
   "source": [
    "# recursive\n",
    "# TC : O(n*h)\n",
    "# SC : \n",
    "def naive(root):\n",
    "    h = height(root)\n",
    "    for i in range(h):\n",
    "        kdistance(root, i)  # for every ith level\n",
    "    \n",
    "# iterative\n",
    "# TC : O(n)\n",
    "# SC : O(n)\n",
    "from collections import deque\n",
    "def efficient(root):\n",
    "    if root is None:\n",
    "        return\n",
    "    q = deque()\n",
    "    q.append(root)\n",
    "    while len(q) is not None:\n",
    "        node = q.popleft()\n",
    "        print(node.data)\n",
    "        if node.left:\n",
    "            q.append(node.left)\n",
    "        if node.right:\n",
    "            q.append(node.right)"
   ]
  },
  {
   "cell_type": "code",
   "execution_count": null,
   "id": "ad7ca21a",
   "metadata": {},
   "outputs": [],
   "source": [
    "SIZE OF BINARY TREE"
   ]
  },
  {
   "cell_type": "code",
   "execution_count": null,
   "id": "59bef2a4",
   "metadata": {},
   "outputs": [],
   "source": [
    "# TC : O(n)\n",
    "# SC : O(h)\n",
    "def sizebst(root):\n",
    "    if root is None:\n",
    "        return 0\n",
    "    return 1 + sizebst(root.left) + sizebst(root.right)"
   ]
  },
  {
   "cell_type": "code",
   "execution_count": null,
   "id": "e73035a7",
   "metadata": {},
   "outputs": [],
   "source": [
    "MAXIMUM IN BINARY TREE"
   ]
  },
  {
   "cell_type": "code",
   "execution_count": null,
   "id": "52dcb74c",
   "metadata": {},
   "outputs": [],
   "source": [
    "# TC : O(n)\n",
    "# SC : O(n)\n",
    "def maximum(root):\n",
    "    if root is None:\n",
    "        return math.inf\n",
    "    else:\n",
    "        return max(maximum(root.left),maximum(root.right),root.data)"
   ]
  },
  {
   "cell_type": "code",
   "execution_count": null,
   "id": "b326ca8a",
   "metadata": {},
   "outputs": [],
   "source": [
    "###### BINARY SEARCH TREE"
   ]
  },
  {
   "cell_type": "code",
   "execution_count": null,
   "id": "61affc9b",
   "metadata": {},
   "outputs": [],
   "source": [
    "# INORDER OF BST IS ALWAYS SORTED"
   ]
  },
  {
   "cell_type": "code",
   "execution_count": null,
   "id": "e73629ab",
   "metadata": {},
   "outputs": [],
   "source": [
    "# h => height of tree\n",
    "# TC : O(h)\n",
    "# SC : O(h)\n",
    "def search(root,key):\n",
    "    if root is None:\n",
    "        return False\n",
    "    if root.data == key:\n",
    "        return True\n",
    "    if root.data > key:\n",
    "        return search(root.left,key)\n",
    "    else:\n",
    "        return search(root.right,key)\n",
    "    \n",
    "# iterative\n",
    "# replace add *while* & replace recursive call with *root = root.left(right)*\n",
    "# TC : O(n)\n",
    "# SC : O(1)"
   ]
  },
  {
   "cell_type": "code",
   "execution_count": null,
   "id": "ebd802a3",
   "metadata": {},
   "outputs": [],
   "source": [
    "# TC : O(h)\n",
    "# SC : O(h)\n",
    "def insert(root,key):  # recursive\n",
    "    if root is None:\n",
    "        return Node(Key)\n",
    "    elif root.key == key:\n",
    "        return root\n",
    "    elif root.key > key:\n",
    "        root.left = insert(root.left,key)\n",
    "    else:\n",
    "        root.right = insert(root.right,key)\n",
    "    return root"
   ]
  },
  {
   "cell_type": "code",
   "execution_count": null,
   "id": "7d969d65",
   "metadata": {},
   "outputs": [],
   "source": [
    "1)     10           2)   10          3)  10\n",
    "       /                 /                 \\\n",
    "      5                 5                   20\n",
    "     /                   \\                 /  \\\n",
    "    2                     7               18   50"
   ]
  },
  {
   "cell_type": "code",
   "execution_count": null,
   "id": "3c2eaef4",
   "metadata": {},
   "outputs": [],
   "source": [
    "# TC : O(h)\n",
    "# SC : O(h)\n",
    "def delete(root,key):   # TRY VISUAL\n",
    "    if root is None:\n",
    "        return\n",
    "    if root.key > key:\n",
    "        root.left = delete(root.left,key)\n",
    "    elif root.key < key:\n",
    "        root.right = delete(root.right,key)\n",
    "    else:\n",
    "        if root.left is None:\n",
    "            return root.right   # remove 7 in 2\n",
    "        elif root.right is None:\n",
    "            return root.left    # remove 5 in 1\n",
    "        else:\n",
    "            succ = getSuccessor(root.right,key)   # return 18\n",
    "            root.key = succ                       # replace 10 with 18\n",
    "            root.right = delete(root.right,succ)  # remove 18"
   ]
  },
  {
   "cell_type": "code",
   "execution_count": null,
   "id": "91e89ebe",
   "metadata": {},
   "outputs": [],
   "source": [
    "def floor(root):\n",
    "    pass\n",
    "# Naive\n",
    "    # Traverse all nodes & keep track of closest small element - O(n)\n",
    "\n",
    "# TC : O(h)\n",
    "# SC : O(1)\n",
    "    # Go left or right (priority final element => In the left)"
   ]
  },
  {
   "cell_type": "code",
   "execution_count": null,
   "id": "09c36afb",
   "metadata": {},
   "outputs": [],
   "source": [
    "def ceil(root):\n",
    "    pass\n",
    "\n",
    "# similar code"
   ]
  },
  {
   "cell_type": "code",
   "execution_count": null,
   "id": "0bf5bb76",
   "metadata": {},
   "outputs": [],
   "source": [
    "SELF BALANCING BST"
   ]
  },
  {
   "cell_type": "code",
   "execution_count": null,
   "id": "25fa1ec3",
   "metadata": {},
   "outputs": [],
   "source": [
    "1. AVL TREE"
   ]
  },
  {
   "cell_type": "code",
   "execution_count": null,
   "id": "6c692d0b",
   "metadata": {},
   "outputs": [],
   "source": []
  },
  {
   "cell_type": "code",
   "execution_count": null,
   "id": "501e0897",
   "metadata": {},
   "outputs": [],
   "source": [
    "2. RED BLACK TREES"
   ]
  },
  {
   "cell_type": "code",
   "execution_count": null,
   "id": "a838697e",
   "metadata": {},
   "outputs": [],
   "source": []
  },
  {
   "cell_type": "code",
   "execution_count": null,
   "id": "88bcb68b",
   "metadata": {},
   "outputs": [],
   "source": [
    "# APPLICATIONS OF SELF BALANCING BST (IMPORTANT)"
   ]
  }
 ],
 "metadata": {
  "kernelspec": {
   "display_name": "Python 3 (ipykernel)",
   "language": "python",
   "name": "python3"
  },
  "language_info": {
   "codemirror_mode": {
    "name": "ipython",
    "version": 3
   },
   "file_extension": ".py",
   "mimetype": "text/x-python",
   "name": "python",
   "nbconvert_exporter": "python",
   "pygments_lexer": "ipython3",
   "version": "3.9.16"
  },
  "varInspector": {
   "cols": {
    "lenName": 16,
    "lenType": 16,
    "lenVar": 40
   },
   "kernels_config": {
    "python": {
     "delete_cmd_postfix": "",
     "delete_cmd_prefix": "del ",
     "library": "var_list.py",
     "varRefreshCmd": "print(var_dic_list())"
    },
    "r": {
     "delete_cmd_postfix": ") ",
     "delete_cmd_prefix": "rm(",
     "library": "var_list.r",
     "varRefreshCmd": "cat(var_dic_list()) "
    }
   },
   "types_to_exclude": [
    "module",
    "function",
    "builtin_function_or_method",
    "instance",
    "_Feature"
   ],
   "window_display": false
  }
 },
 "nbformat": 4,
 "nbformat_minor": 5
}
