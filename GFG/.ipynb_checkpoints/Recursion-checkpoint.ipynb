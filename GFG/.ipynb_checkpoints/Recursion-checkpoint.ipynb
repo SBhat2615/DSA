{
 "cells": [
  {
   "cell_type": "markdown",
   "id": "b28a8af0",
   "metadata": {},
   "source": [
    "# RECURSION"
   ]
  },
  {
   "cell_type": "markdown",
   "id": "f82590f6",
   "metadata": {},
   "source": [
    "- TAIL RECURSION - `Function doesn't do anything after last recursive call - More optimized`\n",
    "\n",
    "\n",
    "- TAIL CALL ELIMINATION - `Done by modern compilers, which is the reason for the optimization (but not in python)`\n",
    "\n",
    "    - IN PYTHON - CHANGE TAIL CALL ELIMINATION TO A WHILE LOOP\n",
    "    \n",
    "    \n",
    "- EXAMPLE OF TAIL RECURSIVE FUNCTIONS - \n",
    "    1. QUICK SORT \n",
    "    2. POST ORDER TREE TRAVERSAL"
   ]
  },
  {
   "cell_type": "markdown",
   "id": "f65e8d0a",
   "metadata": {},
   "source": [
    "#### `LOG`"
   ]
  },
  {
   "cell_type": "code",
   "execution_count": 1,
   "id": "b606353d",
   "metadata": {},
   "outputs": [
    {
     "data": {
      "text/plain": [
       "3"
      ]
     },
     "execution_count": 1,
     "metadata": {},
     "output_type": "execute_result"
    }
   ],
   "source": [
    "def log2(n):\n",
    "    if n <= 1:\n",
    "        return 0\n",
    "    else:\n",
    "        return 1 + log2(n//2)\n",
    "\n",
    "log2(8)"
   ]
  },
  {
   "cell_type": "markdown",
   "id": "52113540",
   "metadata": {},
   "source": [
    "#### `BINARY REPRESENTATION`"
   ]
  },
  {
   "cell_type": "code",
   "execution_count": 4,
   "id": "5efb4136",
   "metadata": {
    "scrolled": true
   },
   "outputs": [
    {
     "name": "stdout",
     "output_type": "stream",
     "text": [
      "1\n",
      "0\n",
      "1\n",
      "1\n"
     ]
    }
   ],
   "source": [
    "def binary(n):\n",
    "    if n == 0:\n",
    "        return\n",
    "    else:\n",
    "        binary(n//2)\n",
    "        print(n%2)\n",
    "    \n",
    "binary(11)"
   ]
  },
  {
   "cell_type": "markdown",
   "id": "e43b8f17",
   "metadata": {},
   "source": [
    "#### `SUM OF DIGITS`"
   ]
  },
  {
   "cell_type": "code",
   "execution_count": 7,
   "id": "5ce70f21",
   "metadata": {
    "scrolled": true
   },
   "outputs": [
    {
     "data": {
      "text/plain": [
       "21"
      ]
     },
     "execution_count": 7,
     "metadata": {},
     "output_type": "execute_result"
    }
   ],
   "source": [
    "def sod(n):\n",
    "    if n == 0:\n",
    "        return 0\n",
    "    else:\n",
    "        return n%10 + sod(n//10)\n",
    "\n",
    "sod(984)"
   ]
  },
  {
   "cell_type": "code",
   "execution_count": null,
   "id": "fb8e2fbd",
   "metadata": {},
   "outputs": [],
   "source": []
  },
  {
   "cell_type": "code",
   "execution_count": null,
   "id": "c93acd40",
   "metadata": {},
   "outputs": [],
   "source": []
  },
  {
   "cell_type": "code",
   "execution_count": null,
   "id": "9cf5bd1d",
   "metadata": {},
   "outputs": [],
   "source": []
  },
  {
   "cell_type": "code",
   "execution_count": null,
   "id": "7b6c54cd",
   "metadata": {},
   "outputs": [],
   "source": []
  },
  {
   "cell_type": "markdown",
   "id": "43e3371e",
   "metadata": {},
   "source": [
    "#### `ROPE CUTTING`"
   ]
  },
  {
   "cell_type": "code",
   "execution_count": null,
   "id": "cae522ae",
   "metadata": {},
   "outputs": [],
   "source": [
    "# O(3^n)\n",
    "def ropeCutting(n, a, b, c):\n",
    "    if n <= -1:\n",
    "        return -1\n",
    "    if n == 0:\n",
    "        return 0\n",
    "    res = max(ropeCutting(n-a, a, b, c), ropeCutting(n-b, a, b, c), ropeCutting(n-c, a, b, c))\n",
    "    if res == -1:\n",
    "        return -1\n",
    "    return res+1\n",
    "\n",
    "n, a, b, c = 5, 2, 5, 1\n",
    "ropeCutting(n, a, b, c)\n",
    "\n",
    "# Better - dp"
   ]
  },
  {
   "cell_type": "markdown",
   "id": "9be5bb82",
   "metadata": {},
   "source": [
    "#### `SUBSET`"
   ]
  },
  {
   "cell_type": "code",
   "execution_count": null,
   "id": "ebc0c770",
   "metadata": {},
   "outputs": [],
   "source": [
    "# O(2^n)\n",
    "def subsets(string, sub, ind):\n",
    "    if ind == len(string):\n",
    "        print(sub, end=' ')\n",
    "        return\n",
    "    subsets(string, sub, ind+1)\n",
    "    subsets(string, sub+string[ind], ind+1)\n",
    "\n",
    "string = 'abc'\n",
    "subsets(string, '', 0)"
   ]
  },
  {
   "cell_type": "markdown",
   "id": "fa0f707d",
   "metadata": {},
   "source": [
    "#### `TOWER OF HANOI`"
   ]
  },
  {
   "cell_type": "code",
   "execution_count": null,
   "id": "0d2d19f6",
   "metadata": {},
   "outputs": [],
   "source": [
    "# N-1 disks from A to B , C as auxillary\n",
    "# Nth disk from A to C\n",
    "# N-1 disks from B to C , A as auxillary\n",
    "\n",
    "# O(2^n)  {Movements = 2^n-1 (G.P)}\n",
    "def toh(n, A, B, C):\n",
    "    if n == 1:\n",
    "        print('Move 1 from ', A, ' to ', C)\n",
    "    else:\n",
    "        toh(n-1, A, C, B) # rec A to B\n",
    "        print('Move ', n, ' from ', A, ' to ', C) # Nth from A to C\n",
    "        toh(n-1, B, A, C) # rec B to C\n",
    "\n",
    "n = 3\n",
    "# source = A, aux = B, destination = C\n",
    "toh(n, 'A', 'B', 'C')"
   ]
  },
  {
   "cell_type": "markdown",
   "id": "52205bf9",
   "metadata": {},
   "source": [
    "#### `JOSEPHUS`"
   ]
  },
  {
   "cell_type": "code",
   "execution_count": null,
   "id": "96a5767a",
   "metadata": {},
   "outputs": [],
   "source": [
    "# Understand mapping after each recursive call\n",
    "# O(n)\n",
    "\n",
    "def jos(n, k): # 0 -> n-1\n",
    "    if n == 1:\n",
    "        return 0\n",
    "    \n",
    "    return (jos(n-1, k)+k)%n\n",
    "\n",
    "def josStartsWithOne(n, k): # 1 -> n\n",
    "    return jos(n,k)+1\n",
    "\n",
    "print(jos(5,2))\n",
    "print(josStartsWithOne(5,2))"
   ]
  },
  {
   "cell_type": "markdown",
   "id": "4bf46cb8",
   "metadata": {},
   "source": [
    "#### `SUBSET SUM`"
   ]
  },
  {
   "cell_type": "code",
   "execution_count": null,
   "id": "88a73689",
   "metadata": {},
   "outputs": [],
   "source": [
    "# Count of subsum\n",
    "def subsum(arr, n, summ):\n",
    "    if n == 0:\n",
    "        return 1 if summ == 0 else 0\n",
    "    return subsum(arr, n-1, summ)+subsum(arr, n-1, summ-arr[n-1])\n",
    "\n",
    "arr = [1,2,3]\n",
    "summ = 4\n",
    "subsum(arr, len(arr), summ)    "
   ]
  },
  {
   "cell_type": "markdown",
   "id": "004778f0",
   "metadata": {},
   "source": [
    "#### `PERMUTATIONS`"
   ]
  },
  {
   "cell_type": "code",
   "execution_count": 1,
   "id": "32b87440",
   "metadata": {},
   "outputs": [
    {
     "name": "stdout",
     "output_type": "stream",
     "text": [
      "ABC ACB BAC BCA CAB CBA "
     ]
    }
   ],
   "source": [
    "def permute(s, answer):\n",
    "\tif (len(s) == 0):\n",
    "\t\tprint(answer, end = \" \")\n",
    "\t\treturn\n",
    "    \n",
    "\tfor i in range(len(s)):\n",
    "\t\tch = s[i]\n",
    "\t\tleft_substr = s[0:i]\n",
    "\t\tright_substr = s[i + 1:]\n",
    "\t\trest = left_substr + right_substr\n",
    "\t\tpermute(rest, answer + ch)\n",
    "\n",
    "\n",
    "answer = \"\"\n",
    "\n",
    "s = \"ABC\"\n",
    "\n",
    "permute(s, answer)"
   ]
  },
  {
   "cell_type": "code",
   "execution_count": null,
   "id": "a27eb1ad",
   "metadata": {},
   "outputs": [],
   "source": []
  },
  {
   "cell_type": "code",
   "execution_count": null,
   "id": "92d853e4",
   "metadata": {},
   "outputs": [],
   "source": []
  },
  {
   "cell_type": "code",
   "execution_count": null,
   "id": "76016ec6",
   "metadata": {},
   "outputs": [],
   "source": []
  },
  {
   "cell_type": "code",
   "execution_count": null,
   "id": "7de967ef",
   "metadata": {},
   "outputs": [],
   "source": []
  }
 ],
 "metadata": {
  "kernelspec": {
   "display_name": "Python 3 (ipykernel)",
   "language": "python",
   "name": "python3"
  },
  "language_info": {
   "codemirror_mode": {
    "name": "ipython",
    "version": 3
   },
   "file_extension": ".py",
   "mimetype": "text/x-python",
   "name": "python",
   "nbconvert_exporter": "python",
   "pygments_lexer": "ipython3",
   "version": "3.9.16"
  },
  "varInspector": {
   "cols": {
    "lenName": 16,
    "lenType": 16,
    "lenVar": 40
   },
   "kernels_config": {
    "python": {
     "delete_cmd_postfix": "",
     "delete_cmd_prefix": "del ",
     "library": "var_list.py",
     "varRefreshCmd": "print(var_dic_list())"
    },
    "r": {
     "delete_cmd_postfix": ") ",
     "delete_cmd_prefix": "rm(",
     "library": "var_list.r",
     "varRefreshCmd": "cat(var_dic_list()) "
    }
   },
   "types_to_exclude": [
    "module",
    "function",
    "builtin_function_or_method",
    "instance",
    "_Feature"
   ],
   "window_display": false
  }
 },
 "nbformat": 4,
 "nbformat_minor": 5
}
