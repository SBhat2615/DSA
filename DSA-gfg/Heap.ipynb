{
 "cells": [
  {
   "cell_type": "markdown",
   "id": "9b4fd37c",
   "metadata": {},
   "source": [
    "## BINARY HEAP"
   ]
  },
  {
   "cell_type": "markdown",
   "id": "ef110210",
   "metadata": {},
   "source": [
    "1. Used in HeapSort\n",
    "2. Used to implement Priority Queue\n",
    "3. Two Types\n",
    "    - MinHeap (Highest priority item is assigned lowest value)\n",
    "    - MaxHeap (Highest priority item is assigned highest value)"
   ]
  },
  {
   "cell_type": "markdown",
   "id": "8d27758a",
   "metadata": {},
   "source": [
    "1. Binary Heap is a Complete Binary Tree \n",
    "    - All nodes are filled except last node.\n",
    "    - Last node is filled in the order from left to right.\n",
    "2. Stored as an array\n",
    "    - left(i) = 2i + 1\n",
    "    - right(i) = 2i + 2\n",
    "    - parent(i) = floor _(i-1)/2_"
   ]
  },
  {
   "cell_type": "markdown",
   "id": "e7886192",
   "metadata": {},
   "source": [
    "- Advantages\n",
    "    1. Items at contiguous locations. Allows random access (advantage of array)\n",
    "    2. Cache friendly (they have locality of reference)\n",
    "    3. It is CBT (height of tree is min possible) & (most operations depend on height)"
   ]
  },
  {
   "cell_type": "markdown",
   "id": "5e4b2987",
   "metadata": {},
   "source": [
    "- Implementation\n",
    "    1. Main Operations\n",
    "        - Simple constructor\n",
    "        - Insert\n",
    "        - Extract Min\n",
    "        - Decrease Key\n",
    "        - Delete\n",
    "        - Constructor (enhanced with build heap) [construct heap from arrayset]\n",
    "    2. Utility Functions\n",
    "        - Left child\n",
    "        - Right child\n",
    "        - Parent\n",
    "        - Min Heapify"
   ]
  },
  {
   "cell_type": "code",
   "execution_count": 5,
   "id": "8a5d406c",
   "metadata": {},
   "outputs": [],
   "source": [
    "import math\n",
    "\n",
    "class MyMinHeap:\n",
    "    def __init__(self):\n",
    "        self.arr = []\n",
    "        \n",
    "    def parent(self, i):\n",
    "        return (i-1)//2\n",
    "    \n",
    "    def lchild(self,i):\n",
    "        return 2*i+1\n",
    "    \n",
    "    def rchild(self,i):\n",
    "        return 2*i+2\n",
    "    \n",
    "    # TC : O(log(n))\n",
    "    # append at the end & swap with the parent\n",
    "    def insert(self,x):\n",
    "        arr = self.arr\n",
    "        arr.append(x)\n",
    "        i = len(arr)-1\n",
    "        while i > 0 and arr[self.parent(i)] > arr[i]:\n",
    "            p = self.parent(i)\n",
    "            arr[p], arr[i] = arr[i], arr[p]\n",
    "            i = p\n",
    "    \n",
    "    # RECURSIVE - TC : O(log(n)) , AS : O(log(n))\n",
    "    # ITERATIVE - TC : O(log(n)) , AS : O(log(n))\n",
    "    # minHeapify fixes heap whose root is vioalated\n",
    "    def minHeapify(self,i):\n",
    "        arr = self.arr\n",
    "        lindex = self.lchild(i)\n",
    "        rindex = self.rchild(i)\n",
    "        smallest = i\n",
    "        n = len(arr)\n",
    "        if (lindex < n) and (arr[lindex] < arr[smallest]):\n",
    "            smallest = lindex\n",
    "        if (rindex < n) and (arr[rindex] < arr[smallest]):\n",
    "            smallest = rindex\n",
    "        if smallest != i:\n",
    "            arr[smallest], arr[i] = arr[i], arr[smallest]\n",
    "            # in recursive call, worry only about swapped subtree\n",
    "            self.minHeapify(smallest)\n",
    "    \n",
    "    # TC : O(log(n))\n",
    "    # 1. Assign end element to root (no swapping).\n",
    "    # 2. Call minHeapify (root is violated)\n",
    "    def extractMin(self):\n",
    "        arr = self.arr\n",
    "        n = len(arr)\n",
    "        if n == 0:\n",
    "            return math.inf\n",
    "        res = arr[0]\n",
    "        arr[0] = arr[n-1]\n",
    "        arr.pop()          # O(1)\n",
    "        self.minHeapify(0)\n",
    "        return res\n",
    "    \n",
    "    # decrease specific value in heap\n",
    "    # TC : O(log(n) + log(n))\n",
    "    def decreaseKey(self, i, x):\n",
    "        arr = self.arr\n",
    "        arr[i] = r\n",
    "        while i != 0 and arr[self.parent(i)] > arr[i]:\n",
    "            p = self.parent(i)\n",
    "            arr[p], arr[i] = arr[i], arr[p]\n",
    "            i = p\n",
    "    \n",
    "    # delete element at given index, using descrease key & extractmin\n",
    "    def delete(self, i):\n",
    "        n = len(self.arr)\n",
    "        if i >= n:\n",
    "            return\n",
    "        else:\n",
    "            self.decreaseKey(i, -math.inf)\n",
    "            self.extractMin()"
   ]
  },
  {
   "cell_type": "code",
   "execution_count": 6,
   "id": "e3e32be0",
   "metadata": {},
   "outputs": [],
   "source": [
    "arr = [1,9,3,5,2,9,7]"
   ]
  },
  {
   "cell_type": "markdown",
   "id": "7e18a41a",
   "metadata": {},
   "source": [
    "#### Build Heap"
   ]
  },
  {
   "cell_type": "markdown",
   "id": "227e6563",
   "metadata": {},
   "source": [
    "https://www.geeksforgeeks.org/batch/ds-with-python/track/heap-basic-python/video/MjAxNA%3D%3D"
   ]
  },
  {
   "cell_type": "code",
   "execution_count": 7,
   "id": "53c4335e",
   "metadata": {},
   "outputs": [],
   "source": [
    "### Naive Solution\n",
    "\n",
    "# using sorting\n",
    "# TC : O(n*log(n))\n",
    "\n",
    "\n",
    "### Efficient Solution (Traverse from bottom)\n",
    "\n",
    "# TC : O(n)\n",
    "class MyMinHeap(MyMinHeap):\n",
    "    def __init__(self, l=[]):\n",
    "        self.arr = l\n",
    "        self.i = (len(l)-2)//2  # index of bottom-most rightmost internal (not a leaf) node {logic : parent of last node}\n",
    "    \n",
    "    def heapify():\n",
    "        while self.i >= 0:\n",
    "            self.minHeapify(i)\n",
    "            self.i = self.i - 1"
   ]
  },
  {
   "cell_type": "code",
   "execution_count": null,
   "id": "8a55630c",
   "metadata": {},
   "outputs": [],
   "source": [
    "heap = MyMinHeap(arr)\n",
    "heap.heapify()"
   ]
  },
  {
   "cell_type": "markdown",
   "id": "4d93bcf8",
   "metadata": {},
   "source": [
    "#### Heap Sort"
   ]
  },
  {
   "cell_type": "code",
   "execution_count": null,
   "id": "0b1255da",
   "metadata": {},
   "outputs": [],
   "source": []
  },
  {
   "cell_type": "markdown",
   "id": "a15adb7c",
   "metadata": {},
   "source": [
    "#### Heapq (python)"
   ]
  },
  {
   "cell_type": "code",
   "execution_count": 12,
   "id": "27b3bca2",
   "metadata": {},
   "outputs": [
    {
     "name": "stdout",
     "output_type": "stream",
     "text": [
      "[5, 20, 1, 4, 3]\n",
      "[1, 3, 5, 4, 20]\n",
      "[1, 3, 2, 4, 20, 5]\n",
      "1\n",
      "[2, 3, 5, 4, 20]\n",
      "[20, 5]\n",
      "[2, 3]\n",
      "[2, 3, 5, 4, 20]\n"
     ]
    }
   ],
   "source": [
    "import heapq\n",
    "\n",
    "pq = [5, 20, 1, 4, 3]\n",
    "print(pq)\n",
    "\n",
    "# create heap - TC: O(log(n))\n",
    "heapq.heapify(pq)\n",
    "print(pq)\n",
    "\n",
    "# push element to heap - TC: O(log(n))\n",
    "heapq.heappush(pq, 2)\n",
    "print(pq)\n",
    "\n",
    "# pop element from heap  -  TC: O(log(n))  -  similar to extractmin\n",
    "print(heapq.heappop(pq))\n",
    "print(pq)\n",
    "\n",
    "# very useful (to get nlargest & nsmallest values)\n",
    "print(heapq.nlargest(2, pq))\n",
    "print(heapq.nsmallest(2, pq))\n",
    "print(pq)\n",
    "\n",
    "# Necessity of below 2 functions : more efficient (instead of using push & pop seperately)\n",
    "# 1. do push & pop\n",
    "print(heapq.heappushpop(pq, 2))\n",
    "\n",
    "# 2. replaces root with value & then calls heapify\n",
    "print(heapq.heapreplace(pq, 50))\n",
    "\n",
    "# heapq doesn't store data ; a list is always passed as parameter"
   ]
  },
  {
   "cell_type": "code",
   "execution_count": null,
   "id": "570c1efb",
   "metadata": {},
   "outputs": [],
   "source": []
  }
 ],
 "metadata": {
  "kernelspec": {
   "display_name": "Python 3 (ipykernel)",
   "language": "python",
   "name": "python3"
  },
  "language_info": {
   "codemirror_mode": {
    "name": "ipython",
    "version": 3
   },
   "file_extension": ".py",
   "mimetype": "text/x-python",
   "name": "python",
   "nbconvert_exporter": "python",
   "pygments_lexer": "ipython3",
   "version": "3.9.16"
  },
  "varInspector": {
   "cols": {
    "lenName": 16,
    "lenType": 16,
    "lenVar": 40
   },
   "kernels_config": {
    "python": {
     "delete_cmd_postfix": "",
     "delete_cmd_prefix": "del ",
     "library": "var_list.py",
     "varRefreshCmd": "print(var_dic_list())"
    },
    "r": {
     "delete_cmd_postfix": ") ",
     "delete_cmd_prefix": "rm(",
     "library": "var_list.r",
     "varRefreshCmd": "cat(var_dic_list()) "
    }
   },
   "types_to_exclude": [
    "module",
    "function",
    "builtin_function_or_method",
    "instance",
    "_Feature"
   ],
   "window_display": false
  }
 },
 "nbformat": 4,
 "nbformat_minor": 5
}
